{
 "cells": [
  {
   "cell_type": "code",
   "execution_count": 1,
   "id": "ebabd76f",
   "metadata": {},
   "outputs": [
    {
     "name": "stdout",
     "output_type": "stream",
     "text": [
      "Enter the string: Kiyotaka Ayanokoji\n",
      "ijokonayA akatoyiK\n"
     ]
    }
   ],
   "source": [
    "# 1\n",
    "\n",
    "str = input(\"Enter the string: \")\n",
    "rev_str = \"\"\n",
    "len = len(str)\n",
    "while len > 0:\n",
    "    rev_str += str[len-1]\n",
    "    len -= 1\n",
    "print(rev_str)"
   ]
  },
  {
   "cell_type": "code",
   "execution_count": 22,
   "id": "fbbe3f48",
   "metadata": {},
   "outputs": [
    {
     "name": "stdout",
     "output_type": "stream",
     "text": [
      "Enter the lower range: 2\n",
      "Enter the upper range: 66\n",
      "Enter the number: 5\n",
      "5\n",
      "10\n",
      "15\n",
      "20\n",
      "25\n",
      "30\n",
      "35\n",
      "40\n",
      "45\n",
      "50\n",
      "55\n",
      "60\n",
      "65\n"
     ]
    }
   ],
   "source": [
    "# 2\n",
    "\n",
    "def div_num(lr, ur):\n",
    "    n = int(input(\"Enter the number: \"))\n",
    "    for _ in range(lr, ur + 1):\n",
    "        if _ % n == 0:\n",
    "            print(_)\n",
    "div_num(int(input(\"Enter the lower range: \")), int(input(\"Enter the upper range: \")))"
   ]
  },
  {
   "cell_type": "code",
   "execution_count": 3,
   "id": "c7358cc7",
   "metadata": {},
   "outputs": [
    {
     "name": "stdout",
     "output_type": "stream",
     "text": [
      "Enter side 1: 5\n",
      "Enter side 2: 6\n",
      "Enter side 3: 7\n",
      "The area of the triange is 14.696938456699069\n"
     ]
    }
   ],
   "source": [
    "# 3\n",
    "\n",
    "while True:\n",
    "    len1 = float(input(\"Enter side 1: \"))\n",
    "    len2 = float(input(\"Enter side 2: \"))\n",
    "    len3 = float(input(\"Enter side 3: \"))\n",
    "    if len1 + len2 > len3 and len2 + len3 > len1 and len1 + len3 > len2:\n",
    "        break\n",
    "    else:\n",
    "        print(\"Invalid side lengths\")\n",
    "        continue\n",
    "p = (len1 + len2 + len3)/2\n",
    "import math\n",
    "area = math.sqrt(p * (p-len1) * (p-len2) * (p-len3))\n",
    "print(\"The area of the triange is\", area)"
   ]
  },
  {
   "cell_type": "code",
   "execution_count": 4,
   "id": "228a0558",
   "metadata": {},
   "outputs": [
    {
     "name": "stdout",
     "output_type": "stream",
     "text": [
      "* \n",
      "* * \n",
      "* * * \n",
      "* * * * \n",
      "* * * * * \n",
      "* * * * \n",
      "* * * \n",
      "* * \n",
      "* \n",
      "\n"
     ]
    }
   ],
   "source": [
    "#  4\n",
    "\n",
    "for _ in range(1, 6):\n",
    "    print(_ * \"* \")\n",
    "for i in range(1, 6):\n",
    "    x = 5-i\n",
    "    print(x * \"* \")"
   ]
  },
  {
   "cell_type": "code",
   "execution_count": 5,
   "id": "63a6787c",
   "metadata": {},
   "outputs": [
    {
     "name": "stdout",
     "output_type": "stream",
     "text": [
      "Enter the number of rows: 5\n",
      "A\n",
      "BC\n",
      "DEF\n",
      "GHIJ\n",
      "KLMNO\n"
     ]
    }
   ],
   "source": [
    "# 5\n",
    "\n",
    "x = \"ABCDEFGHIJKLMNOPQRSTUVWXYZ\"\n",
    "r = int(input(\"Enter the number of rows: \"))\n",
    "y, c = 0, 1\n",
    "for _ in range(1, 1+r):\n",
    "    print(x[y:c])\n",
    "    y = c\n",
    "    c += _ + 1"
   ]
  },
  {
   "cell_type": "code",
   "execution_count": 21,
   "id": "d7074541",
   "metadata": {},
   "outputs": [
    {
     "name": "stdout",
     "output_type": "stream",
     "text": [
      "Enter the upper range: 55\n",
      "The prime numbers in the given range are\n",
      "2, 3, 5, 7, 11, 13, 17, 19, 23, 29, 31, 37, 41, 43, 47, 53, "
     ]
    }
   ],
   "source": [
    "# 6\n",
    "\n",
    "ur = int(input(\"Enter the upper range: \"))\n",
    "print(\"The prime numbers in the given range are\")\n",
    "for _ in range(2, ur + 1):\n",
    "    for j in range(2, _):\n",
    "        if _ == j:\n",
    "            pass\n",
    "        elif _ % j == 0:\n",
    "            break\n",
    "    else:\n",
    "        print(_, end=\", \")"
   ]
  },
  {
   "cell_type": "code",
   "execution_count": 20,
   "id": "50f48072",
   "metadata": {},
   "outputs": [
    {
     "name": "stdout",
     "output_type": "stream",
     "text": [
      "77\n",
      "154\n",
      "231\n",
      "308\n",
      "385\n",
      "462\n"
     ]
    }
   ],
   "source": [
    "# 7\n",
    "\n",
    "for i in range(1, 500):\n",
    "    if i % 7 == 0 and i % 11 == 0:\n",
    "        print(i)"
   ]
  },
  {
   "cell_type": "code",
   "execution_count": 8,
   "id": "a52e82c7",
   "metadata": {},
   "outputs": [
    {
     "name": "stdout",
     "output_type": "stream",
     "text": [
      "Enter an integer: 55\n",
      "Enter an integer: 5\n",
      "Enter an integer: 3\n",
      "Enter an integer: 7\n",
      "Enter an integer: 9\n",
      "Enter an integer: 7\n",
      "Enter an integer: 2\n",
      "Enter an integer: 38\n",
      "Enter an integer: 44\n",
      "Enter an integer: 99\n",
      "55 is a positive integer\n",
      "5 is a positive integer\n",
      "3 is a positive integer\n",
      "7 is a positive integer\n",
      "9 is a positive integer\n",
      "7 is a positive integer\n",
      "2 is a positive integer\n",
      "38 is a positive integer\n",
      "44 is a positive integer\n",
      "99 is a positive integer\n",
      "2 occurs 1 times\n",
      "3 occurs 1 times\n",
      "99 occurs 1 times\n",
      "5 occurs 1 times\n",
      "38 occurs 1 times\n",
      "7 occurs 2 times\n",
      "9 occurs 1 times\n",
      "44 occurs 1 times\n",
      "55 occurs 1 times\n"
     ]
    }
   ],
   "source": [
    "# 8\n",
    "\n",
    "lst = []\n",
    "for i in range(10):\n",
    "    x = int(input(\"Enter an integer: \"))\n",
    "    lst.append(x)\n",
    "for _ in lst:\n",
    "    if _ > 0:\n",
    "        print(_, \"is a positive integer\")\n",
    "    elif _ < 0:\n",
    "        print(_, \"is a negative integer\")\n",
    "    elif _ % 2 == 0:\n",
    "        print(_, \"is an even integer\")\n",
    "    elif _ % 2 != 0:\n",
    "        print(_, \"is an odd integer\")\n",
    "set = set(lst)\n",
    "for i in set:\n",
    "    print(i, \"occurs\", lst.count(i), \"times\")"
   ]
  },
  {
   "cell_type": "code",
   "execution_count": 11,
   "id": "add25fb6",
   "metadata": {},
   "outputs": [
    {
     "name": "stdout",
     "output_type": "stream",
     "text": [
      "Enter an integer: 41\n",
      "Enter an integer: 52\n",
      "Enter an integer: 63\n",
      "Enter an integer: 74\n",
      "Enter an integer: 85\n",
      "Enter an integer: 96\n",
      "Enter an integer: 14\n",
      "Enter an integer: 25\n",
      "Enter an integer: 36\n",
      "Enter an integer: 74\n",
      "41 is a positive integer\n",
      "52 is a positive integer\n",
      "63 is a positive integer\n",
      "74 is a positive integer\n",
      "85 is a positive integer\n",
      "96 is a positive integer\n",
      "14 is a positive integer\n",
      "25 is a positive integer\n",
      "36 is a positive integer\n",
      "74 is a positive integer\n"
     ]
    },
    {
     "ename": "TypeError",
     "evalue": "'set' object is not callable",
     "output_type": "error",
     "traceback": [
      "\u001b[1;31m---------------------------------------------------------------------------\u001b[0m",
      "\u001b[1;31mTypeError\u001b[0m                                 Traceback (most recent call last)",
      "\u001b[1;32m~\\AppData\\Local\\Temp\\ipykernel_40440\\2339494751.py\u001b[0m in \u001b[0;36m<module>\u001b[1;34m\u001b[0m\n\u001b[0;32m     14\u001b[0m     \u001b[1;32melif\u001b[0m \u001b[0m_\u001b[0m \u001b[1;33m%\u001b[0m \u001b[1;36m2\u001b[0m \u001b[1;33m!=\u001b[0m \u001b[1;36m0\u001b[0m\u001b[1;33m:\u001b[0m\u001b[1;33m\u001b[0m\u001b[1;33m\u001b[0m\u001b[0m\n\u001b[0;32m     15\u001b[0m         \u001b[0mprint\u001b[0m\u001b[1;33m(\u001b[0m\u001b[0m_\u001b[0m\u001b[1;33m,\u001b[0m \u001b[1;34m\"is an odd integer\"\u001b[0m\u001b[1;33m)\u001b[0m\u001b[1;33m\u001b[0m\u001b[1;33m\u001b[0m\u001b[0m\n\u001b[1;32m---> 16\u001b[1;33m \u001b[0mset\u001b[0m \u001b[1;33m=\u001b[0m \u001b[0mset\u001b[0m\u001b[1;33m(\u001b[0m\u001b[0mlst\u001b[0m\u001b[1;33m)\u001b[0m\u001b[1;33m\u001b[0m\u001b[1;33m\u001b[0m\u001b[0m\n\u001b[0m\u001b[0;32m     17\u001b[0m \u001b[1;32mfor\u001b[0m \u001b[0mi\u001b[0m \u001b[1;32min\u001b[0m \u001b[0mset\u001b[0m\u001b[1;33m:\u001b[0m\u001b[1;33m\u001b[0m\u001b[1;33m\u001b[0m\u001b[0m\n\u001b[0;32m     18\u001b[0m     \u001b[0mprint\u001b[0m\u001b[1;33m(\u001b[0m\u001b[0mi\u001b[0m\u001b[1;33m,\u001b[0m \u001b[1;34m\"occurs\"\u001b[0m\u001b[1;33m,\u001b[0m \u001b[0mlst\u001b[0m\u001b[1;33m.\u001b[0m\u001b[0mcount\u001b[0m\u001b[1;33m(\u001b[0m\u001b[0mi\u001b[0m\u001b[1;33m)\u001b[0m\u001b[1;33m,\u001b[0m \u001b[1;34m\"times\"\u001b[0m\u001b[1;33m)\u001b[0m\u001b[1;33m\u001b[0m\u001b[1;33m\u001b[0m\u001b[0m\n",
      "\u001b[1;31mTypeError\u001b[0m: 'set' object is not callable"
     ]
    }
   ],
   "source": [
    "# 9\n",
    "\n",
    "lst = []\n",
    "for i in range(10):\n",
    "    x = int(input(\"Enter an integer: \"))\n",
    "    lst.append(x)\n",
    "for _ in lst:\n",
    "    if _ > 0:\n",
    "        print(_, \"is a positive integer\")\n",
    "    elif _ < 0:\n",
    "        print(_, \"is a negative integer\")\n",
    "    elif _ % 2 == 0:\n",
    "        print(_, \"is an even integer\")\n",
    "    elif _ % 2 != 0:\n",
    "        print(_, \"is an odd integer\")\n",
    "set = set(lst)\n",
    "for i in set:\n",
    "    print(i, \"occurs\", lst.count(i), \"times\")"
   ]
  },
  {
   "cell_type": "code",
   "execution_count": null,
   "id": "6e0450ec",
   "metadata": {},
   "outputs": [],
   "source": []
  }
 ],
 "metadata": {
  "kernelspec": {
   "display_name": "Python 3 (ipykernel)",
   "language": "python",
   "name": "python3"
  },
  "language_info": {
   "codemirror_mode": {
    "name": "ipython",
    "version": 3
   },
   "file_extension": ".py",
   "mimetype": "text/x-python",
   "name": "python",
   "nbconvert_exporter": "python",
   "pygments_lexer": "ipython3",
   "version": "3.9.13"
  }
 },
 "nbformat": 4,
 "nbformat_minor": 5
}
